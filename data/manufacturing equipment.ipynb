{
 "cells": [
  {
   "cell_type": "markdown",
   "id": "aa3d9ba1-88d6-4a6c-aa0f-f2282382216e",
   "metadata": {},
   "source": [
    "# Manufacturing Equipment Maintenace Prediction"
   ]
  },
  {
   "cell_type": "code",
   "execution_count": null,
   "id": "cb6bb84d-9182-4427-9854-e114237dfa1e",
   "metadata": {},
   "outputs": [],
   "source": [
    "!pip install tensorflow\n",
    "# importing the necessary library and dependencies\n",
    "import pandas as pd\n",
    "import numpy as np\n",
    "import seaborn as sns\n",
    "import matplotlib.pyplot as plt\n",
    "\n",
    "#modelling\n",
    "from sklearn.model_selection import train_test_split\n",
    "import tensorflow as tf\n",
    "from tensorflow import keras\n",
    "from tensorflow.keras import layers\n",
    "from tensorflow.keras.layers import Dense\n",
    "from tensorflow.keras.layers import LeakyReLU, PReLU, ELU, ReLU\n",
    "from tensorflow.keras.models import Sequential\n",
    "from tensorflow.keras.optimizers import Adam\n",
    "from tensorflow.keras.metrics import BinaryAccuracy, Precision, Recall\n",
    "from tensorflow.keras.callbacks import EarlyStopping\n",
    "from tensorflow.keras.layers import Dropout\n",
    "from sklearn.utils.class_weight import compute_class_weight\n",
    "from tensorflow.keras import backend as K\n",
    "from sklearn.metrics import confusion_matrix\n",
    "\n",
    "#feature enginering\n",
    "from sklearn.preprocessing import OneHotEncoder, StandardScaler\n",
    "from sklearn.preprocessing import LabelEncoder\n",
    "from sklearn.compose import ColumnTransformer"
   ]
  },
  {
   "cell_type": "markdown",
   "id": "3d4d78b8-109f-4d49-baa2-176662554b44",
   "metadata": {},
   "source": [
    "### Loading the dataset"
   ]
  },
  {
   "cell_type": "code",
   "execution_count": null,
   "id": "ce5a287e-c34f-41e4-bd81-466eceda2816",
   "metadata": {},
   "outputs": [],
   "source": [
    "df = pd.read_csv('Dataset.csv')\n",
    "df"
   ]
  },
  {
   "cell_type": "markdown",
   "id": "b96ea8b9-4db8-48cc-ae0e-ccd8bbebdbec",
   "metadata": {},
   "source": [
    "### Data cleaning"
   ]
  },
  {
   "cell_type": "code",
   "execution_count": null,
   "id": "c8bfe55c-6bd9-442f-a3ad-5dabd31a7bfc",
   "metadata": {},
   "outputs": [],
   "source": [
    "df1=df.drop(columns=['Equipment_ID'], axis=1)"
   ]
  },
  {
   "cell_type": "code",
   "execution_count": null,
   "id": "f33b4c73-6f4c-4ab4-a498-7acfc872ce99",
   "metadata": {},
   "outputs": [],
   "source": [
    "df1.isnull().sum()"
   ]
  },
  {
   "cell_type": "markdown",
   "id": "63fd1b71-1dd3-4c6e-b35d-8d6b9eb10487",
   "metadata": {},
   "source": [
    "### Checking for multicollinearity "
   ]
  },
  {
   "cell_type": "code",
   "execution_count": null,
   "id": "65abb1e6-2111-4111-80c9-28a78439022b",
   "metadata": {},
   "outputs": [],
   "source": [
    "#correlation heatmap\n",
    "numeric_data = df1.select_dtypes(include=['number'])\n",
    "plt.figure(figsize=(12,8))\n",
    "sns.heatmap(numeric_data.corr(), annot=True, cmap = 'Greens')\n",
    "plt.title(\"Correlation heat map of manufacturing equipment\")\n",
    "plt.show()"
   ]
  },
  {
   "cell_type": "markdown",
   "id": "a179c983-388e-4c08-aaa2-e7442b4b2015",
   "metadata": {},
   "source": [
    "### Removing outliers"
   ]
  },
  {
   "cell_type": "code",
   "execution_count": null,
   "id": "2fb2e5ab-4830-4092-8a66-7b87a5b1729e",
   "metadata": {},
   "outputs": [],
   "source": [
    "Q1 = df1['Power_Consumption'].quantile(0.25)\n",
    "Q3 = df1['Power_Consumption'].quantile(0.75)\n",
    "IQR= Q3 - Q1\n",
    "lower_bound = Q1 - 1.5 * IQR\n",
    "upper_bound = Q3 + 1.5 * IQR"
   ]
  },
  {
   "cell_type": "code",
   "execution_count": null,
   "id": "61c8dc4b-8270-47a6-8a28-10ca7f20a956",
   "metadata": {},
   "outputs": [],
   "source": [
    "data_no_outliers_1 = (df1[(df1['Power_Consumption']>= lower_bound) & (df1['Power_Consumption']<= upper_bound)])\n",
    "print(\"Original data shape ;\", df1.shape)\n",
    "print(\"New data without outliers ;\", data_no_outliers_1.shape)"
   ]
  },
  {
   "cell_type": "code",
   "execution_count": null,
   "id": "4380a3a4-6026-43c7-9fb4-edabbcd5e6e3",
   "metadata": {},
   "outputs": [],
   "source": [
    "df1=data_no_outliers_1"
   ]
  },
  {
   "cell_type": "code",
   "execution_count": null,
   "id": "500d9c09-2085-4a85-b57a-d6bc5a3d39b2",
   "metadata": {},
   "outputs": [],
   "source": [
    "df1.shape"
   ]
  },
  {
   "cell_type": "code",
   "execution_count": null,
   "id": "3b6369f2-c45f-4a06-9953-f65af53419cf",
   "metadata": {},
   "outputs": [],
   "source": [
    "x = df1.drop(columns=['Failure_Cause'], axis=1)\n",
    "y = df1['Failure_Cause']"
   ]
  },
  {
   "cell_type": "code",
   "execution_count": null,
   "id": "d6615dc8-fcdb-4d24-8fa0-0c857ef808f1",
   "metadata": {},
   "outputs": [],
   "source": [
    "x.columns.tolist()"
   ]
  },
  {
   "cell_type": "code",
   "execution_count": null,
   "id": "9d7d7a12-d629-44e6-9383-13665ea2be3a",
   "metadata": {},
   "outputs": [],
   "source": [
    "y.value_counts()"
   ]
  },
  {
   "cell_type": "markdown",
   "id": "1715badc-7744-41e8-b7ca-4aba1444fdbe",
   "metadata": {},
   "source": [
    "### Feature engineering"
   ]
  },
  {
   "cell_type": "code",
   "execution_count": null,
   "id": "5f01013d-8907-438b-8b8c-a92d2bd20e5c",
   "metadata": {},
   "outputs": [],
   "source": [
    "# creating column transformer\n",
    "num_features = x.select_dtypes(exclude=\"object\").columns\n",
    "cat_features = x.select_dtypes(include=\"object\").columns\n",
    "\n",
    "numerical_transformer = StandardScaler()\n",
    "categorical_transformer = OneHotEncoder(handle_unknown='ignore')\n",
    "\n",
    "preprocessor = ColumnTransformer(\n",
    "    [\n",
    "      (\"OneHotEncoder\", categorical_transformer, cat_features),\n",
    "      (\"StandardScaler\", numerical_transformer, num_features)  \n",
    "    ]\n",
    ")\n"
   ]
  },
  {
   "cell_type": "markdown",
   "id": "acbaf9c8-30bc-49e5-8e66-983ce9bfa06c",
   "metadata": {},
   "source": [
    "### Splitting dataset for model training purposes"
   ]
  },
  {
   "cell_type": "code",
   "execution_count": null,
   "id": "787de17d-1750-4ea8-8ab9-82f9cb070c5a",
   "metadata": {},
   "outputs": [],
   "source": [
    "x_train, x_test, y_train, y_test = train_test_split(x, y, test_size=0.2, random_state=42)\n",
    "x_train.shape, x_test.shape"
   ]
  },
  {
   "cell_type": "code",
   "execution_count": null,
   "id": "03eb1873-3112-44d1-a37e-e1bd6894c401",
   "metadata": {},
   "outputs": [],
   "source": [
    "preprocessor.fit(x_train)\n",
    "x_train_processed = preprocessor.transform(x_train)\n",
    "x_test_processed = preprocessor.transform(x_test)\n",
    "le = LabelEncoder()\n",
    "y_train_encoded = le.fit_transform(y_train)\n",
    "y_test_encoded = le.transform(y_test)"
   ]
  },
  {
   "cell_type": "markdown",
   "id": "92194db2-b0ad-485d-aac6-c171efcf05d1",
   "metadata": {},
   "source": [
    "### Initializing the ANN model"
   ]
  },
  {
   "cell_type": "code",
   "execution_count": null,
   "id": "86686564-12d6-4fe7-89ac-a22057a73d16",
   "metadata": {},
   "outputs": [],
   "source": [
    "# inititalizing ANN\n",
    "classifier = Sequential()"
   ]
  },
  {
   "cell_type": "code",
   "execution_count": null,
   "id": "06e0c8e8-f721-4561-b0b8-0192cc65c41b",
   "metadata": {},
   "outputs": [],
   "source": [
    "early_stopping = keras.callbacks.EarlyStopping(\n",
    "    monitor=\"val_loss\",\n",
    "    min_delta=0,\n",
    "    patience=35,\n",
    "    verbose=1,\n",
    "    mode=\"auto\",\n",
    "    baseline=None,\n",
    "    restore_best_weights=False,\n",
    "    start_from_epoch=0,\n",
    ")"
   ]
  },
  {
   "cell_type": "markdown",
   "id": "83f2ea67-4469-4e52-943f-dd87573245ef",
   "metadata": {},
   "source": [
    "### Model building"
   ]
  },
  {
   "cell_type": "code",
   "execution_count": null,
   "id": "de66bc32-187a-4837-87ea-7bdc14a41579",
   "metadata": {},
   "outputs": [],
   "source": [
    "#model building\n",
    "def focal_loss(gamma=2., alpha=.25):\n",
    "    \n",
    "    def focal_loss_fixed(y_true, y_pred):\n",
    "        y_true = tf.cast(y_true, tf.int32)\n",
    "        num_classes = K.int_shape(y_pred)[-1]\n",
    "        y_true_one_hot = tf.one_hot(y_true, depth=num_classes)\n",
    "        y_pred = K.clip(y_pred, K.epsilon(), 1.0 - K.epsilon())\n",
    "        cross_entropy = -y_true_one_hot * K.log(y_pred)\n",
    "        loss_weight = y_true_one_hot * K.pow(1 - y_pred, gamma)\n",
    "        if alpha is not None:\n",
    "            alpha_factor = K.ones_like(y_true_one_hot) * alpha\n",
    "            loss_weight *= alpha_factor\n",
    "        loss = loss_weight * cross_entropy\n",
    "        return K.sum(loss, axis=-1)\n",
    "    return focal_loss_fixed\n",
    "\n",
    "# --- Define the Model Architecture ---\n",
    "def create_lean_model(num_features, num_classes):\n",
    "    classifier = Sequential()\n",
    "    classifier.add(layers.Dense(units=8, activation='relu', kernel_regularizer=keras.regularizers.l2(0.001)))\n",
    "    classifier.add(layers.Dropout(0.3))\n",
    "    classifier.add(layers.Dense(units=num_classes, activation='softmax'))\n",
    "    classifier.compile(optimizer='adam', loss=focal_loss(gamma=2.0, alpha=0.25), metrics=['accuracy'])\n",
    "    return classifier\n",
    "\n",
    "\n",
    "NUM_FEATURES = 17\n",
    "NUM_CLASSES = 3\n",
    "\n",
    "classifier = create_lean_model(NUM_FEATURES, NUM_CLASSES)\n",
    "\n",
    "model_history = classifier.fit(\n",
    "    x_train_processed,\n",
    "    y_train_encoded,\n",
    "    validation_split=0.33,\n",
    "    batch_size=32,\n",
    "    epochs=1000,\n",
    "    callbacks=early_stopping\n",
    ")\n"
   ]
  },
  {
   "cell_type": "markdown",
   "id": "48fd77cf-7e7c-411c-9c4c-127d7003b9ed",
   "metadata": {},
   "source": [
    "### MOdel evaluation"
   ]
  },
  {
   "cell_type": "code",
   "execution_count": null,
   "id": "550ca967-a8aa-491c-b144-92999ecfd9ac",
   "metadata": {},
   "outputs": [],
   "source": [
    "model_history.history.keys()"
   ]
  },
  {
   "cell_type": "code",
   "execution_count": null,
   "id": "4c22076e-c5bb-433b-a525-ed6d778a1b8b",
   "metadata": {},
   "outputs": [],
   "source": [
    "#evaluating the model\n",
    "def focal_loss(gamma=2., alpha=.25):\n",
    "\n",
    "    def focal_loss_fixed(y_true, y_pred):\n",
    "        y_true = tf.cast(y_true, tf.int32)\n",
    "        num_classes = K.int_shape(y_pred)[-1]\n",
    "        y_true_one_hot = tf.one_hot(y_true, depth=num_classes)\n",
    "        y_pred = K.clip(y_pred, K.epsilon(), 1.0 - K.epsilon())\n",
    "        cross_entropy = -y_true_one_hot * K.log(y_pred)\n",
    "        loss_weight = y_true_one_hot * K.pow(1 - y_pred, gamma)\n",
    "        if alpha is not None:\n",
    "            alpha_factor = K.ones_like(y_true_one_hot) * alpha\n",
    "            loss_weight *= alpha_factor\n",
    "        loss = loss_weight * cross_entropy\n",
    "        return K.sum(loss, axis=-1)\n",
    "    return focal_loss_fixed\n",
    "\n",
    "print(\"Evaluating the model on the test set...\")\n",
    "\n",
    "loss, accuracy = classifier.evaluate(x_test_processed, y_test_encoded)\n",
    "\n",
    "print(f\"\\nFinal Test Loss: {loss:.4f}\")\n",
    "print(f\"Final Test Accuracy: {accuracy:.4f}\")\n"
   ]
  },
  {
   "cell_type": "markdown",
   "id": "fd3e3f0b-eec7-445f-9384-b6245151451f",
   "metadata": {},
   "source": [
    "#### Confusion matrix"
   ]
  },
  {
   "cell_type": "code",
   "execution_count": null,
   "id": "35dacaac-0296-4ef2-aaa5-955dcfbe4c67",
   "metadata": {},
   "outputs": [],
   "source": [
    "#using confusion matrix to get more accurate model performance\n",
    "\n",
    "def plot_confusion_matrix(classifier, x_test, y_test_encoded, class_names):\n",
    "  \n",
    "    y_pred_probs = classifier.predict(x_test_processed)\n",
    "    y_pred_classes = np.argmax(y_pred_probs, axis=1)\n",
    "    \n",
    "    y_true_classes = y_test_encoded\n",
    "    \n",
    "    cm = confusion_matrix(y_true_classes, y_pred_classes)\n",
    "    \n",
    "    plt.figure(figsize=(8, 6))\n",
    "    sns.heatmap(\n",
    "        cm, \n",
    "        annot=True, \n",
    "        fmt=\"d\", \n",
    "        cmap=\"Blues\", \n",
    "        xticklabels=class_names, \n",
    "        yticklabels=class_names\n",
    "    )\n",
    "    plt.title(\"Confusion Matrix for Failure Prediction\")\n",
    "    plt.ylabel(\"Actual Label\")\n",
    "    plt.xlabel(\"Predicted Label\")\n",
    "    plt.show()\n",
    "\n",
    "if __name__ == \"__main__\":\n",
    "    \n",
    "    CLASS_NAMES = ['Electrical Failure', 'Mechanical Failure', 'Sensor Malfunction'] \n",
    "    \n",
    "plot_confusion_matrix(classifier, x_test_processed, y_test_encoded, CLASS_NAMES)\n"
   ]
  },
  {
   "cell_type": "code",
   "execution_count": null,
   "id": "cc9d2024-73e9-4063-bb92-1239f663f88b",
   "metadata": {},
   "outputs": [],
   "source": []
  }
 ],
 "metadata": {
  "kernelspec": {
   "display_name": "Python 3 (ipykernel)",
   "language": "python",
   "name": "python3"
  },
  "language_info": {
   "codemirror_mode": {
    "name": "ipython",
    "version": 3
   },
   "file_extension": ".py",
   "mimetype": "text/x-python",
   "name": "python",
   "nbconvert_exporter": "python",
   "pygments_lexer": "ipython3",
   "version": "3.12.3"
  }
 },
 "nbformat": 4,
 "nbformat_minor": 5
}
